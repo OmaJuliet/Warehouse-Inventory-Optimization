{
 "cells": [
  {
   "cell_type": "code",
   "execution_count": 1,
   "id": "0af58635-a801-48c7-b3ea-3966eb3ddf9f",
   "metadata": {},
   "outputs": [],
   "source": [
    "import pandas as pd"
   ]
  },
  {
   "cell_type": "code",
   "execution_count": 3,
   "id": "3f93af47-a236-4a70-abc8-e2fdd4262018",
   "metadata": {},
   "outputs": [],
   "source": [
    "df = pd.read_excel(\"warehouse_inventory_data.xlsx\")"
   ]
  },
  {
   "cell_type": "code",
   "execution_count": 5,
   "id": "06dd3f45-b926-48dd-9fcb-e2db0457e35e",
   "metadata": {},
   "outputs": [
    {
     "data": {
      "text/html": [
       "<div>\n",
       "<style scoped>\n",
       "    .dataframe tbody tr th:only-of-type {\n",
       "        vertical-align: middle;\n",
       "    }\n",
       "\n",
       "    .dataframe tbody tr th {\n",
       "        vertical-align: top;\n",
       "    }\n",
       "\n",
       "    .dataframe thead th {\n",
       "        text-align: right;\n",
       "    }\n",
       "</style>\n",
       "<table border=\"1\" class=\"dataframe\">\n",
       "  <thead>\n",
       "    <tr style=\"text-align: right;\">\n",
       "      <th></th>\n",
       "      <th>SKU_ID</th>\n",
       "      <th>Warehouse_ID</th>\n",
       "      <th>Category</th>\n",
       "      <th>Stock_Level</th>\n",
       "      <th>Reorder_Point</th>\n",
       "      <th>Avg_Daily_Sales</th>\n",
       "      <th>Shelf_Life_Days</th>\n",
       "      <th>Last_Order_Date</th>\n",
       "      <th>Order_Fulfillment_Days</th>\n",
       "      <th>Stockout_Occurred</th>\n",
       "      <th>Return_Rate</th>\n",
       "      <th>Labor_Cost_Per_Day</th>\n",
       "    </tr>\n",
       "  </thead>\n",
       "  <tbody>\n",
       "    <tr>\n",
       "      <th>0</th>\n",
       "      <td>SKU-0041</td>\n",
       "      <td>WH-1</td>\n",
       "      <td>Fresh Produce</td>\n",
       "      <td>51</td>\n",
       "      <td>38</td>\n",
       "      <td>2.24</td>\n",
       "      <td>180</td>\n",
       "      <td>2023-05-21</td>\n",
       "      <td>5</td>\n",
       "      <td>0</td>\n",
       "      <td>0.12</td>\n",
       "      <td>189.17</td>\n",
       "    </tr>\n",
       "    <tr>\n",
       "      <th>1</th>\n",
       "      <td>SKU-0015</td>\n",
       "      <td>WH-2</td>\n",
       "      <td>Bakery</td>\n",
       "      <td>86</td>\n",
       "      <td>20</td>\n",
       "      <td>4.86</td>\n",
       "      <td>7</td>\n",
       "      <td>2023-12-13</td>\n",
       "      <td>5</td>\n",
       "      <td>0</td>\n",
       "      <td>0.12</td>\n",
       "      <td>241.61</td>\n",
       "    </tr>\n",
       "    <tr>\n",
       "      <th>2</th>\n",
       "      <td>SKU-0038</td>\n",
       "      <td>WH-4</td>\n",
       "      <td>Fresh Produce</td>\n",
       "      <td>21</td>\n",
       "      <td>30</td>\n",
       "      <td>9.71</td>\n",
       "      <td>7</td>\n",
       "      <td>2023-02-17</td>\n",
       "      <td>4</td>\n",
       "      <td>0</td>\n",
       "      <td>0.19</td>\n",
       "      <td>100.16</td>\n",
       "    </tr>\n",
       "    <tr>\n",
       "      <th>3</th>\n",
       "      <td>SKU-0015</td>\n",
       "      <td>WH-5</td>\n",
       "      <td>Frozen Foods</td>\n",
       "      <td>59</td>\n",
       "      <td>30</td>\n",
       "      <td>6.37</td>\n",
       "      <td>7</td>\n",
       "      <td>2023-10-15</td>\n",
       "      <td>2</td>\n",
       "      <td>0</td>\n",
       "      <td>0.10</td>\n",
       "      <td>186.39</td>\n",
       "    </tr>\n",
       "    <tr>\n",
       "      <th>4</th>\n",
       "      <td>SKU-0046</td>\n",
       "      <td>WH-5</td>\n",
       "      <td>Beverages</td>\n",
       "      <td>48</td>\n",
       "      <td>36</td>\n",
       "      <td>6.31</td>\n",
       "      <td>14</td>\n",
       "      <td>2023-08-18</td>\n",
       "      <td>2</td>\n",
       "      <td>1</td>\n",
       "      <td>0.01</td>\n",
       "      <td>294.75</td>\n",
       "    </tr>\n",
       "  </tbody>\n",
       "</table>\n",
       "</div>"
      ],
      "text/plain": [
       "     SKU_ID Warehouse_ID       Category  Stock_Level  Reorder_Point  \\\n",
       "0  SKU-0041         WH-1  Fresh Produce           51             38   \n",
       "1  SKU-0015         WH-2         Bakery           86             20   \n",
       "2  SKU-0038         WH-4  Fresh Produce           21             30   \n",
       "3  SKU-0015         WH-5   Frozen Foods           59             30   \n",
       "4  SKU-0046         WH-5      Beverages           48             36   \n",
       "\n",
       "   Avg_Daily_Sales  Shelf_Life_Days Last_Order_Date  Order_Fulfillment_Days  \\\n",
       "0             2.24              180      2023-05-21                       5   \n",
       "1             4.86                7      2023-12-13                       5   \n",
       "2             9.71                7      2023-02-17                       4   \n",
       "3             6.37                7      2023-10-15                       2   \n",
       "4             6.31               14      2023-08-18                       2   \n",
       "\n",
       "   Stockout_Occurred  Return_Rate  Labor_Cost_Per_Day  \n",
       "0                  0         0.12              189.17  \n",
       "1                  0         0.12              241.61  \n",
       "2                  0         0.19              100.16  \n",
       "3                  0         0.10              186.39  \n",
       "4                  1         0.01              294.75  "
      ]
     },
     "execution_count": 5,
     "metadata": {},
     "output_type": "execute_result"
    }
   ],
   "source": [
    "df.head()"
   ]
  },
  {
   "cell_type": "code",
   "execution_count": 7,
   "id": "c6e31d69-2eef-4396-9d3d-3ce1bdc0b293",
   "metadata": {},
   "outputs": [
    {
     "name": "stdout",
     "output_type": "stream",
     "text": [
      "SKU_ID                            object\n",
      "Warehouse_ID                      object\n",
      "Category                          object\n",
      "Stock_Level                        int64\n",
      "Reorder_Point                      int64\n",
      "Avg_Daily_Sales                  float64\n",
      "Shelf_Life_Days                    int64\n",
      "Last_Order_Date           datetime64[ns]\n",
      "Order_Fulfillment_Days             int64\n",
      "Stockout_Occurred                  int64\n",
      "Return_Rate                      float64\n",
      "Labor_Cost_Per_Day               float64\n",
      "dtype: object\n"
     ]
    }
   ],
   "source": [
    "# Check data type first\n",
    "print(df.dtypes)"
   ]
  },
  {
   "cell_type": "code",
   "execution_count": 9,
   "id": "abf64fb0-d2b6-4583-b29d-dd2dab349677",
   "metadata": {},
   "outputs": [
    {
     "name": "stdout",
     "output_type": "stream",
     "text": [
      "SKU_ID                    0\n",
      "Warehouse_ID              0\n",
      "Category                  0\n",
      "Stock_Level               0\n",
      "Reorder_Point             0\n",
      "Avg_Daily_Sales           0\n",
      "Shelf_Life_Days           0\n",
      "Last_Order_Date           0\n",
      "Order_Fulfillment_Days    0\n",
      "Stockout_Occurred         0\n",
      "Return_Rate               0\n",
      "Labor_Cost_Per_Day        0\n",
      "dtype: int64\n"
     ]
    }
   ],
   "source": [
    "# Check for null values\n",
    "print(df.isnull().sum())"
   ]
  },
  {
   "cell_type": "code",
   "execution_count": 11,
   "id": "a5b8f745-9ab0-43e1-880b-d34f878d3e59",
   "metadata": {},
   "outputs": [
    {
     "name": "stdout",
     "output_type": "stream",
     "text": [
      "Duplicate rows: 0\n"
     ]
    }
   ],
   "source": [
    "# Check for duplicate rows\n",
    "print(f\"Duplicate rows: {df.duplicated().sum()}\")"
   ]
  },
  {
   "cell_type": "code",
   "execution_count": 15,
   "id": "22ac7c15-e5ee-47d1-9dce-6b5c942d45f7",
   "metadata": {},
   "outputs": [],
   "source": [
    "# Derived fields\n",
    "\n",
    "# Days to stockout\n",
    "df['days_to_stockout'] = df['Stock_Level'] / df['Avg_Daily_Sales']"
   ]
  },
  {
   "cell_type": "code",
   "execution_count": 17,
   "id": "78a80286-00a1-40a2-9f77-9d017f3aacb1",
   "metadata": {},
   "outputs": [],
   "source": [
    "# Derived field: is slow moving\n",
    "\n",
    "df['is_slow_moving'] = df['Avg_Daily_Sales'] < 5"
   ]
  },
  {
   "cell_type": "code",
   "execution_count": 19,
   "id": "ae7faaa8-ab11-4d95-9726-6eaeab92930a",
   "metadata": {},
   "outputs": [
    {
     "data": {
      "text/html": [
       "<div>\n",
       "<style scoped>\n",
       "    .dataframe tbody tr th:only-of-type {\n",
       "        vertical-align: middle;\n",
       "    }\n",
       "\n",
       "    .dataframe tbody tr th {\n",
       "        vertical-align: top;\n",
       "    }\n",
       "\n",
       "    .dataframe thead th {\n",
       "        text-align: right;\n",
       "    }\n",
       "</style>\n",
       "<table border=\"1\" class=\"dataframe\">\n",
       "  <thead>\n",
       "    <tr style=\"text-align: right;\">\n",
       "      <th></th>\n",
       "      <th>SKU_ID</th>\n",
       "      <th>Warehouse_ID</th>\n",
       "      <th>Category</th>\n",
       "      <th>Stock_Level</th>\n",
       "      <th>Reorder_Point</th>\n",
       "      <th>Avg_Daily_Sales</th>\n",
       "      <th>Shelf_Life_Days</th>\n",
       "      <th>Last_Order_Date</th>\n",
       "      <th>Order_Fulfillment_Days</th>\n",
       "      <th>Stockout_Occurred</th>\n",
       "      <th>Return_Rate</th>\n",
       "      <th>Labor_Cost_Per_Day</th>\n",
       "      <th>days_to_stockout</th>\n",
       "      <th>is_slow_moving</th>\n",
       "    </tr>\n",
       "  </thead>\n",
       "  <tbody>\n",
       "    <tr>\n",
       "      <th>0</th>\n",
       "      <td>SKU-0041</td>\n",
       "      <td>WH-1</td>\n",
       "      <td>Fresh Produce</td>\n",
       "      <td>51</td>\n",
       "      <td>38</td>\n",
       "      <td>2.24</td>\n",
       "      <td>180</td>\n",
       "      <td>2023-05-21</td>\n",
       "      <td>5</td>\n",
       "      <td>0</td>\n",
       "      <td>0.12</td>\n",
       "      <td>189.17</td>\n",
       "      <td>22.767857</td>\n",
       "      <td>True</td>\n",
       "    </tr>\n",
       "    <tr>\n",
       "      <th>1</th>\n",
       "      <td>SKU-0015</td>\n",
       "      <td>WH-2</td>\n",
       "      <td>Bakery</td>\n",
       "      <td>86</td>\n",
       "      <td>20</td>\n",
       "      <td>4.86</td>\n",
       "      <td>7</td>\n",
       "      <td>2023-12-13</td>\n",
       "      <td>5</td>\n",
       "      <td>0</td>\n",
       "      <td>0.12</td>\n",
       "      <td>241.61</td>\n",
       "      <td>17.695473</td>\n",
       "      <td>True</td>\n",
       "    </tr>\n",
       "    <tr>\n",
       "      <th>2</th>\n",
       "      <td>SKU-0038</td>\n",
       "      <td>WH-4</td>\n",
       "      <td>Fresh Produce</td>\n",
       "      <td>21</td>\n",
       "      <td>30</td>\n",
       "      <td>9.71</td>\n",
       "      <td>7</td>\n",
       "      <td>2023-02-17</td>\n",
       "      <td>4</td>\n",
       "      <td>0</td>\n",
       "      <td>0.19</td>\n",
       "      <td>100.16</td>\n",
       "      <td>2.162719</td>\n",
       "      <td>False</td>\n",
       "    </tr>\n",
       "    <tr>\n",
       "      <th>3</th>\n",
       "      <td>SKU-0015</td>\n",
       "      <td>WH-5</td>\n",
       "      <td>Frozen Foods</td>\n",
       "      <td>59</td>\n",
       "      <td>30</td>\n",
       "      <td>6.37</td>\n",
       "      <td>7</td>\n",
       "      <td>2023-10-15</td>\n",
       "      <td>2</td>\n",
       "      <td>0</td>\n",
       "      <td>0.10</td>\n",
       "      <td>186.39</td>\n",
       "      <td>9.262166</td>\n",
       "      <td>False</td>\n",
       "    </tr>\n",
       "    <tr>\n",
       "      <th>4</th>\n",
       "      <td>SKU-0046</td>\n",
       "      <td>WH-5</td>\n",
       "      <td>Beverages</td>\n",
       "      <td>48</td>\n",
       "      <td>36</td>\n",
       "      <td>6.31</td>\n",
       "      <td>14</td>\n",
       "      <td>2023-08-18</td>\n",
       "      <td>2</td>\n",
       "      <td>1</td>\n",
       "      <td>0.01</td>\n",
       "      <td>294.75</td>\n",
       "      <td>7.606973</td>\n",
       "      <td>False</td>\n",
       "    </tr>\n",
       "  </tbody>\n",
       "</table>\n",
       "</div>"
      ],
      "text/plain": [
       "     SKU_ID Warehouse_ID       Category  Stock_Level  Reorder_Point  \\\n",
       "0  SKU-0041         WH-1  Fresh Produce           51             38   \n",
       "1  SKU-0015         WH-2         Bakery           86             20   \n",
       "2  SKU-0038         WH-4  Fresh Produce           21             30   \n",
       "3  SKU-0015         WH-5   Frozen Foods           59             30   \n",
       "4  SKU-0046         WH-5      Beverages           48             36   \n",
       "\n",
       "   Avg_Daily_Sales  Shelf_Life_Days Last_Order_Date  Order_Fulfillment_Days  \\\n",
       "0             2.24              180      2023-05-21                       5   \n",
       "1             4.86                7      2023-12-13                       5   \n",
       "2             9.71                7      2023-02-17                       4   \n",
       "3             6.37                7      2023-10-15                       2   \n",
       "4             6.31               14      2023-08-18                       2   \n",
       "\n",
       "   Stockout_Occurred  Return_Rate  Labor_Cost_Per_Day  days_to_stockout  \\\n",
       "0                  0         0.12              189.17         22.767857   \n",
       "1                  0         0.12              241.61         17.695473   \n",
       "2                  0         0.19              100.16          2.162719   \n",
       "3                  0         0.10              186.39          9.262166   \n",
       "4                  1         0.01              294.75          7.606973   \n",
       "\n",
       "   is_slow_moving  \n",
       "0            True  \n",
       "1            True  \n",
       "2           False  \n",
       "3           False  \n",
       "4           False  "
      ]
     },
     "execution_count": 19,
     "metadata": {},
     "output_type": "execute_result"
    }
   ],
   "source": [
    "df.head()"
   ]
  },
  {
   "cell_type": "code",
   "execution_count": 21,
   "id": "58a0860b-707c-416d-a80e-aea02906c0b0",
   "metadata": {},
   "outputs": [
    {
     "data": {
      "text/plain": [
       "is_slow_moving\n",
       "False    0.522\n",
       "True     0.478\n",
       "Name: proportion, dtype: float64"
      ]
     },
     "execution_count": 21,
     "metadata": {},
     "output_type": "execute_result"
    }
   ],
   "source": [
    "# EDA Metrics\n",
    "\n",
    "# % slow-moving SKUs\n",
    "df['is_slow_moving'].value_counts(normalize=True)"
   ]
  },
  {
   "cell_type": "code",
   "execution_count": 25,
   "id": "92d2fb7e-193a-440c-afb8-0649d5b6ee52",
   "metadata": {},
   "outputs": [
    {
     "data": {
      "text/plain": [
       "5"
      ]
     },
     "execution_count": 25,
     "metadata": {},
     "output_type": "execute_result"
    }
   ],
   "source": [
    "# Stockout count\n",
    "\n",
    "df[df['Stock_Level'] == 0].shape[0]"
   ]
  },
  {
   "cell_type": "code",
   "execution_count": 27,
   "id": "990e6d99-1007-4535-8d1f-de567247f46e",
   "metadata": {},
   "outputs": [
    {
     "data": {
      "text/plain": [
       "240"
      ]
     },
     "execution_count": 27,
     "metadata": {},
     "output_type": "execute_result"
    }
   ],
   "source": [
    "# Overstock count\n",
    "\n",
    "df[df['Stock_Level'] > 2 * df['Reorder_Point']].shape[0]"
   ]
  },
  {
   "cell_type": "code",
   "execution_count": 29,
   "id": "f26c9433-8ce8-4bd5-a8a2-6e64f69d6cef",
   "metadata": {},
   "outputs": [
    {
     "data": {
      "text/plain": [
       "3.548"
      ]
     },
     "execution_count": 29,
     "metadata": {},
     "output_type": "execute_result"
    }
   ],
   "source": [
    "# Avg fulfillment time\n",
    "\n",
    "df['Order_Fulfillment_Days'].mean()"
   ]
  },
  {
   "cell_type": "code",
   "execution_count": 39,
   "id": "731b8ea5-e603-43da-94f9-6daee5ac09a0",
   "metadata": {},
   "outputs": [
    {
     "ename": "AttributeError",
     "evalue": "'DatetimeProperties' object has no attribute 'to_month'",
     "output_type": "error",
     "traceback": [
      "\u001b[0;31m---------------------------------------------------------------------------\u001b[0m",
      "\u001b[0;31mAttributeError\u001b[0m                            Traceback (most recent call last)",
      "Cell \u001b[0;32mIn[39], line 3\u001b[0m\n\u001b[1;32m      1\u001b[0m \u001b[38;5;66;03m# Labour cost trend (groupby month and sum labor cost)\u001b[39;00m\n\u001b[0;32m----> 3\u001b[0m df[\u001b[38;5;124m'\u001b[39m\u001b[38;5;124mmonth\u001b[39m\u001b[38;5;124m'\u001b[39m] \u001b[38;5;241m=\u001b[39m df[\u001b[38;5;124m'\u001b[39m\u001b[38;5;124mLast_Order_Date\u001b[39m\u001b[38;5;124m'\u001b[39m]\u001b[38;5;241m.\u001b[39mdt\u001b[38;5;241m.\u001b[39mto_month(\u001b[38;5;124m'\u001b[39m\u001b[38;5;124mM\u001b[39m\u001b[38;5;124m'\u001b[39m)\n\u001b[1;32m      4\u001b[0m labor_cost_by_month \u001b[38;5;241m=\u001b[39m df\u001b[38;5;241m.\u001b[39mgroupby(\u001b[38;5;124m'\u001b[39m\u001b[38;5;124mmonth\u001b[39m\u001b[38;5;124m'\u001b[39m)[\u001b[38;5;124m'\u001b[39m\u001b[38;5;124mLabor_Cost_Per_Day\u001b[39m\u001b[38;5;124m'\u001b[39m]\u001b[38;5;241m.\u001b[39msum()\u001b[38;5;241m.\u001b[39mreset_index()\n",
      "\u001b[0;31mAttributeError\u001b[0m: 'DatetimeProperties' object has no attribute 'to_month'"
     ]
    }
   ],
   "source": [
    "# Labour cost trend (groupby month and sum labor cost)\n",
    "\n",
    "df['month'] = df['Last_Order_Date'].dt.to_month('M')\n",
    "labor_cost_by_month = df.groupby('month')['Labor_Cost_Per_Day'].sum().reset_index()"
   ]
  },
  {
   "cell_type": "code",
   "execution_count": 33,
   "id": "b0eddd6c-9951-4be5-873d-cab07c097fb0",
   "metadata": {},
   "outputs": [],
   "source": [
    "# Group by warehouse\n",
    "\n",
    "warehouse_summary = df.groupby('Warehouse_ID')[['Stock_Level', 'Avg_Daily_Sales', 'Order_Fulfillment_Days', 'Labor_Cost_Per_Day']].mean()"
   ]
  },
  {
   "cell_type": "code",
   "execution_count": 35,
   "id": "e6e6be8d-00dc-4934-8e6f-1b1e3dcb52ff",
   "metadata": {},
   "outputs": [
    {
     "data": {
      "text/html": [
       "<div>\n",
       "<style scoped>\n",
       "    .dataframe tbody tr th:only-of-type {\n",
       "        vertical-align: middle;\n",
       "    }\n",
       "\n",
       "    .dataframe tbody tr th {\n",
       "        vertical-align: top;\n",
       "    }\n",
       "\n",
       "    .dataframe thead th {\n",
       "        text-align: right;\n",
       "    }\n",
       "</style>\n",
       "<table border=\"1\" class=\"dataframe\">\n",
       "  <thead>\n",
       "    <tr style=\"text-align: right;\">\n",
       "      <th></th>\n",
       "      <th>SKU_ID</th>\n",
       "      <th>Warehouse_ID</th>\n",
       "      <th>Category</th>\n",
       "      <th>Stock_Level</th>\n",
       "      <th>Reorder_Point</th>\n",
       "      <th>Avg_Daily_Sales</th>\n",
       "      <th>Shelf_Life_Days</th>\n",
       "      <th>Last_Order_Date</th>\n",
       "      <th>Order_Fulfillment_Days</th>\n",
       "      <th>Stockout_Occurred</th>\n",
       "      <th>Return_Rate</th>\n",
       "      <th>Labor_Cost_Per_Day</th>\n",
       "      <th>days_to_stockout</th>\n",
       "      <th>is_slow_moving</th>\n",
       "      <th>month</th>\n",
       "    </tr>\n",
       "  </thead>\n",
       "  <tbody>\n",
       "    <tr>\n",
       "      <th>0</th>\n",
       "      <td>SKU-0041</td>\n",
       "      <td>WH-1</td>\n",
       "      <td>Fresh Produce</td>\n",
       "      <td>51</td>\n",
       "      <td>38</td>\n",
       "      <td>2.24</td>\n",
       "      <td>180</td>\n",
       "      <td>2023-05-21</td>\n",
       "      <td>5</td>\n",
       "      <td>0</td>\n",
       "      <td>0.12</td>\n",
       "      <td>189.17</td>\n",
       "      <td>22.767857</td>\n",
       "      <td>True</td>\n",
       "      <td>2023-05</td>\n",
       "    </tr>\n",
       "    <tr>\n",
       "      <th>1</th>\n",
       "      <td>SKU-0015</td>\n",
       "      <td>WH-2</td>\n",
       "      <td>Bakery</td>\n",
       "      <td>86</td>\n",
       "      <td>20</td>\n",
       "      <td>4.86</td>\n",
       "      <td>7</td>\n",
       "      <td>2023-12-13</td>\n",
       "      <td>5</td>\n",
       "      <td>0</td>\n",
       "      <td>0.12</td>\n",
       "      <td>241.61</td>\n",
       "      <td>17.695473</td>\n",
       "      <td>True</td>\n",
       "      <td>2023-12</td>\n",
       "    </tr>\n",
       "    <tr>\n",
       "      <th>2</th>\n",
       "      <td>SKU-0038</td>\n",
       "      <td>WH-4</td>\n",
       "      <td>Fresh Produce</td>\n",
       "      <td>21</td>\n",
       "      <td>30</td>\n",
       "      <td>9.71</td>\n",
       "      <td>7</td>\n",
       "      <td>2023-02-17</td>\n",
       "      <td>4</td>\n",
       "      <td>0</td>\n",
       "      <td>0.19</td>\n",
       "      <td>100.16</td>\n",
       "      <td>2.162719</td>\n",
       "      <td>False</td>\n",
       "      <td>2023-02</td>\n",
       "    </tr>\n",
       "    <tr>\n",
       "      <th>3</th>\n",
       "      <td>SKU-0015</td>\n",
       "      <td>WH-5</td>\n",
       "      <td>Frozen Foods</td>\n",
       "      <td>59</td>\n",
       "      <td>30</td>\n",
       "      <td>6.37</td>\n",
       "      <td>7</td>\n",
       "      <td>2023-10-15</td>\n",
       "      <td>2</td>\n",
       "      <td>0</td>\n",
       "      <td>0.10</td>\n",
       "      <td>186.39</td>\n",
       "      <td>9.262166</td>\n",
       "      <td>False</td>\n",
       "      <td>2023-10</td>\n",
       "    </tr>\n",
       "    <tr>\n",
       "      <th>4</th>\n",
       "      <td>SKU-0046</td>\n",
       "      <td>WH-5</td>\n",
       "      <td>Beverages</td>\n",
       "      <td>48</td>\n",
       "      <td>36</td>\n",
       "      <td>6.31</td>\n",
       "      <td>14</td>\n",
       "      <td>2023-08-18</td>\n",
       "      <td>2</td>\n",
       "      <td>1</td>\n",
       "      <td>0.01</td>\n",
       "      <td>294.75</td>\n",
       "      <td>7.606973</td>\n",
       "      <td>False</td>\n",
       "      <td>2023-08</td>\n",
       "    </tr>\n",
       "  </tbody>\n",
       "</table>\n",
       "</div>"
      ],
      "text/plain": [
       "     SKU_ID Warehouse_ID       Category  Stock_Level  Reorder_Point  \\\n",
       "0  SKU-0041         WH-1  Fresh Produce           51             38   \n",
       "1  SKU-0015         WH-2         Bakery           86             20   \n",
       "2  SKU-0038         WH-4  Fresh Produce           21             30   \n",
       "3  SKU-0015         WH-5   Frozen Foods           59             30   \n",
       "4  SKU-0046         WH-5      Beverages           48             36   \n",
       "\n",
       "   Avg_Daily_Sales  Shelf_Life_Days Last_Order_Date  Order_Fulfillment_Days  \\\n",
       "0             2.24              180      2023-05-21                       5   \n",
       "1             4.86                7      2023-12-13                       5   \n",
       "2             9.71                7      2023-02-17                       4   \n",
       "3             6.37                7      2023-10-15                       2   \n",
       "4             6.31               14      2023-08-18                       2   \n",
       "\n",
       "   Stockout_Occurred  Return_Rate  Labor_Cost_Per_Day  days_to_stockout  \\\n",
       "0                  0         0.12              189.17         22.767857   \n",
       "1                  0         0.12              241.61         17.695473   \n",
       "2                  0         0.19              100.16          2.162719   \n",
       "3                  0         0.10              186.39          9.262166   \n",
       "4                  1         0.01              294.75          7.606973   \n",
       "\n",
       "   is_slow_moving    month  \n",
       "0            True  2023-05  \n",
       "1            True  2023-12  \n",
       "2           False  2023-02  \n",
       "3           False  2023-10  \n",
       "4           False  2023-08  "
      ]
     },
     "execution_count": 35,
     "metadata": {},
     "output_type": "execute_result"
    }
   ],
   "source": [
    "df.head()"
   ]
  },
  {
   "cell_type": "code",
   "execution_count": 37,
   "id": "a1e664ae-0dc1-42da-8676-9a5679d7f397",
   "metadata": {},
   "outputs": [],
   "source": [
    "df.to_csv(\"cleaned_warehouse_inventory_data.csv\", index=False)"
   ]
  },
  {
   "cell_type": "code",
   "execution_count": null,
   "id": "54ca61a2-d0a1-4172-bc22-f897b30e13eb",
   "metadata": {},
   "outputs": [],
   "source": []
  }
 ],
 "metadata": {
  "kernelspec": {
   "display_name": "Python 3 (ipykernel)",
   "language": "python",
   "name": "python3"
  },
  "language_info": {
   "codemirror_mode": {
    "name": "ipython",
    "version": 3
   },
   "file_extension": ".py",
   "mimetype": "text/x-python",
   "name": "python",
   "nbconvert_exporter": "python",
   "pygments_lexer": "ipython3",
   "version": "3.12.4"
  }
 },
 "nbformat": 4,
 "nbformat_minor": 5
}
